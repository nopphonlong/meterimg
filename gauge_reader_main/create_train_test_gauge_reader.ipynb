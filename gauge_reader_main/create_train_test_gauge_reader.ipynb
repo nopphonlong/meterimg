{
  "nbformat": 4,
  "nbformat_minor": 0,
  "metadata": {
    "colab": {
      "name": "create_train_test_gauge-reader.ipynb",
      "provenance": [],
      "collapsed_sections": [],
      "authorship_tag": "ABX9TyNlowupwtN3ckhC5XVtyj1G",
      "include_colab_link": true
    },
    "kernelspec": {
      "name": "python3",
      "display_name": "Python 3"
    },
    "language_info": {
      "name": "python"
    }
  },
  "cells": [
    {
      "cell_type": "markdown",
      "metadata": {
        "id": "view-in-github",
        "colab_type": "text"
      },
      "source": [
        "<a href=\"https://colab.research.google.com/github/10points/gauge-reader/blob/main/create_train_test_gauge_reader.ipynb\" target=\"_parent\"><img src=\"https://colab.research.google.com/assets/colab-badge.svg\" alt=\"Open In Colab\"/></a>"
      ]
    },
    {
      "cell_type": "code",
      "source": [
        "import zipfile\n",
        "import os\n",
        "import math\n",
        "import random\n",
        "import shutil\n",
        "import pathlib\n",
        "import numpy as np"
      ],
      "metadata": {
        "id": "ofCZMuT064ec"
      },
      "execution_count": 1,
      "outputs": []
    },
    {
      "cell_type": "code",
      "source": [
        "from google.colab import drive\n",
        "drive.mount('/content/drive')"
      ],
      "metadata": {
        "colab": {
          "base_uri": "https://localhost:8080/"
        },
        "id": "w0YeFVKLjEem",
        "outputId": "c8afb0a7-7e06-493a-816d-54b02aefd3d4"
      },
      "execution_count": 2,
      "outputs": [
        {
          "output_type": "stream",
          "name": "stdout",
          "text": [
            "Mounted at /content/drive\n"
          ]
        }
      ]
    },
    {
      "cell_type": "code",
      "source": [
        "# Unzip file\n",
        "zip_ref = zipfile.ZipFile(\"/content/drive/MyDrive/gauge_work/dataset_work.zip\")\n",
        "zip_ref.extractall()\n",
        "zip_ref.close()"
      ],
      "metadata": {
        "id": "igOrV5FxqE68"
      },
      "execution_count": 3,
      "outputs": []
    },
    {
      "cell_type": "code",
      "source": [
        "# create test directory\n",
        "os.mkdir('/content/test/')"
      ],
      "metadata": {
        "id": "rwusc0Fu17O3"
      },
      "execution_count": 4,
      "outputs": []
    },
    {
      "cell_type": "code",
      "source": [
        "# Get class name\n",
        "data_dir = pathlib.Path(\"/content/dataset_work\")\n",
        "folder_names = np.array(sorted([item.name for item in data_dir.glob(\"*\")]))\n",
        "print(folder_names)"
      ],
      "metadata": {
        "colab": {
          "base_uri": "https://localhost:8080/"
        },
        "id": "16E6N7CYJ9e8",
        "outputId": "3e0c0fbb-f54f-442e-f45a-fb6c5af1f873"
      },
      "execution_count": 5,
      "outputs": [
        {
          "output_type": "stream",
          "name": "stdout",
          "text": [
            "['BE_control' 'BE_meter' 'BF_meter' 'BP_boiler_1' 'BP_boiler_2'\n",
            " 'BP_boiler_3' 'BP_boiler_4' 'BP_boiler_5' 'BP_compressor_1'\n",
            " 'BP_compressor_2' 'BP_compressor_3' 'BP_compressor_4' 'BP_compressor_5'\n",
            " 'BP_control' 'BT_meter' 'BW_meter_1' 'B_hour_meter' 'CP_boiler_1'\n",
            " 'CP_boiler_2' 'CP_boiler_3' 'CP_compressor_1' 'CP_compressor_2']\n"
          ]
        }
      ]
    },
    {
      "cell_type": "code",
      "source": [
        "print(len(folder_names))"
      ],
      "metadata": {
        "colab": {
          "base_uri": "https://localhost:8080/"
        },
        "id": "KBr29GlsLjW7",
        "outputId": "9422e2da-2540-4191-87a3-c22a8f355431"
      },
      "execution_count": 6,
      "outputs": [
        {
          "output_type": "stream",
          "name": "stdout",
          "text": [
            "22\n"
          ]
        }
      ]
    },
    {
      "cell_type": "code",
      "source": [
        "# Create class's name folder in train directory\n",
        "for name in folder_names:\n",
        "  os.mkdir(f'/content/test/{name}')"
      ],
      "metadata": {
        "id": "atIkXzPM2Mdd"
      },
      "execution_count": 7,
      "outputs": []
    },
    {
      "cell_type": "code",
      "source": [
        "# print(len(\"/content/dataset\"))"
      ],
      "metadata": {
        "id": "IyhktBpk4KdH"
      },
      "execution_count": null,
      "outputs": []
    },
    {
      "cell_type": "code",
      "source": [
        "def sampling_to_test(sourc_path, target_path, test_ratio):\n",
        "  for dirpath, dirnames, filenames in os.walk(source_path):\n",
        "    if dirpath == source_path:\n",
        "      continue\n",
        "    file_class_name = os.listdir(dirpath)\n",
        "    # print(file_class_name)\n",
        "    # print(f\"---{dirpath}----\")\n",
        "\n",
        "    # File to migrate\n",
        "    list_files = file_class_name[:math.ceil((len(filenames)) * test_ratio)] # ratio of test data\n",
        "    # print(list_files)\n",
        "    # print(f\"---{dirpath}----\")\n",
        "\n",
        "    # Migrate file to other directory\n",
        "    for class_name in list_files:\n",
        "        shutil.move(os.path.join(dirpath, class_name), f\"{target_path}/{dirpath[len(source_path):]}\")\n",
        "\n",
        "\n",
        "\n",
        "  # print(f\"There are {len(dirnames)} directories and {len(filenames)} images in {dirpath}.\")"
      ],
      "metadata": {
        "id": "x__EiNfzqbce"
      },
      "execution_count": 10,
      "outputs": []
    },
    {
      "cell_type": "code",
      "source": [
        "source_path = \"/content/dataset_work\"\n",
        "target_path = \"/content/test\"\n",
        "test_ratio = 0.45\n",
        "\n",
        "sampling_to_test(source_path, target_path, test_ratio)"
      ],
      "metadata": {
        "id": "3VHQ_GNC1zC8"
      },
      "execution_count": 11,
      "outputs": []
    },
    {
      "cell_type": "code",
      "source": [
        "for dirpath, dirnames, filenames in os.walk(\"/content/test\"):\n",
        "  print(f\"There are {len(dirnames)} directories and {len(filenames)} images in {dirpath}.\")"
      ],
      "metadata": {
        "id": "4wlMcdQNqr-7",
        "colab": {
          "base_uri": "https://localhost:8080/"
        },
        "outputId": "51b7ed33-be36-488b-fa52-3983dffd3da7"
      },
      "execution_count": 12,
      "outputs": [
        {
          "output_type": "stream",
          "name": "stdout",
          "text": [
            "There are 22 directories and 0 images in /content/test.\n",
            "There are 0 directories and 6 images in /content/test/BP_boiler_3.\n",
            "There are 0 directories and 5 images in /content/test/BP_compressor_1.\n",
            "There are 0 directories and 4 images in /content/test/CP_boiler_2.\n",
            "There are 0 directories and 1 images in /content/test/CP_compressor_1.\n",
            "There are 0 directories and 3 images in /content/test/CP_boiler_1.\n",
            "There are 0 directories and 4 images in /content/test/BP_compressor_4.\n",
            "There are 0 directories and 6 images in /content/test/CP_boiler_3.\n",
            "There are 0 directories and 10 images in /content/test/BP_compressor_5.\n",
            "There are 0 directories and 7 images in /content/test/BP_control.\n",
            "There are 0 directories and 5 images in /content/test/BF_meter.\n",
            "There are 0 directories and 9 images in /content/test/B_hour_meter.\n",
            "There are 0 directories and 13 images in /content/test/BW_meter_1.\n",
            "There are 0 directories and 5 images in /content/test/BP_boiler_2.\n",
            "There are 0 directories and 3 images in /content/test/CP_compressor_2.\n",
            "There are 0 directories and 9 images in /content/test/BE_meter.\n",
            "There are 0 directories and 6 images in /content/test/BP_boiler_5.\n",
            "There are 0 directories and 4 images in /content/test/BP_boiler_4.\n",
            "There are 0 directories and 7 images in /content/test/BP_boiler_1.\n",
            "There are 0 directories and 14 images in /content/test/BE_control.\n",
            "There are 0 directories and 12 images in /content/test/BP_compressor_2.\n",
            "There are 0 directories and 8 images in /content/test/BP_compressor_3.\n",
            "There are 0 directories and 5 images in /content/test/BT_meter.\n"
          ]
        }
      ]
    },
    {
      "cell_type": "code",
      "source": [
        "os.rename(\"/content/dataset_work\",\"/content/train\")"
      ],
      "metadata": {
        "id": "jokvoGPa53-M"
      },
      "execution_count": 13,
      "outputs": []
    },
    {
      "cell_type": "code",
      "source": [
        "# import os\n",
        "# if os.path.exists(\"/content/train/files.txt\"):\n",
        "#   os.remove(\"/content/train/files.txt\")\n",
        "# else:\n",
        "#   print(\"The file does not exist\")"
      ],
      "metadata": {
        "id": "W_U9OVCx6Qaa"
      },
      "execution_count": null,
      "outputs": []
    },
    {
      "cell_type": "code",
      "source": [
        "for dirpath, dirnames, filenames in os.walk(\"/content/train\"):\n",
        "  print(f\"There are {len(dirnames)} directories and {len(filenames)} images in {dirpath}.\")"
      ],
      "metadata": {
        "colab": {
          "base_uri": "https://localhost:8080/"
        },
        "id": "VkmJsRUu6chM",
        "outputId": "44f853f1-1caa-4308-8987-b3ed360ff8e1"
      },
      "execution_count": 14,
      "outputs": [
        {
          "output_type": "stream",
          "name": "stdout",
          "text": [
            "There are 22 directories and 0 images in /content/train.\n",
            "There are 0 directories and 6 images in /content/train/BP_boiler_3.\n",
            "There are 0 directories and 6 images in /content/train/BP_compressor_1.\n",
            "There are 0 directories and 4 images in /content/train/CP_boiler_2.\n",
            "There are 0 directories and 1 images in /content/train/CP_compressor_1.\n",
            "There are 0 directories and 3 images in /content/train/CP_boiler_1.\n",
            "There are 0 directories and 4 images in /content/train/BP_compressor_4.\n",
            "There are 0 directories and 6 images in /content/train/CP_boiler_3.\n",
            "There are 0 directories and 11 images in /content/train/BP_compressor_5.\n",
            "There are 0 directories and 7 images in /content/train/BP_control.\n",
            "There are 0 directories and 5 images in /content/train/BF_meter.\n",
            "There are 0 directories and 11 images in /content/train/B_hour_meter.\n",
            "There are 0 directories and 15 images in /content/train/BW_meter_1.\n",
            "There are 0 directories and 6 images in /content/train/BP_boiler_2.\n",
            "There are 0 directories and 3 images in /content/train/CP_compressor_2.\n",
            "There are 0 directories and 11 images in /content/train/BE_meter.\n",
            "There are 0 directories and 6 images in /content/train/BP_boiler_5.\n",
            "There are 0 directories and 4 images in /content/train/BP_boiler_4.\n",
            "There are 0 directories and 8 images in /content/train/BP_boiler_1.\n",
            "There are 0 directories and 16 images in /content/train/BE_control.\n",
            "There are 0 directories and 13 images in /content/train/BP_compressor_2.\n",
            "There are 0 directories and 8 images in /content/train/BP_compressor_3.\n",
            "There are 0 directories and 6 images in /content/train/BT_meter.\n"
          ]
        }
      ]
    },
    {
      "cell_type": "code",
      "source": [
        "!zip -r /content/train_55.zip /content/train"
      ],
      "metadata": {
        "id": "2eFklkeo7oiM",
        "colab": {
          "base_uri": "https://localhost:8080/"
        },
        "outputId": "7926dfdd-f295-471f-c88a-eba9cbd17f3a"
      },
      "execution_count": 15,
      "outputs": [
        {
          "output_type": "stream",
          "name": "stdout",
          "text": [
            "  adding: content/train/ (stored 0%)\n",
            "  adding: content/train/BP_boiler_3/ (stored 0%)\n",
            "  adding: content/train/BP_boiler_3/IMG_4191.jpg (deflated 6%)\n",
            "  adding: content/train/BP_boiler_3/IMG_4190.jpg (deflated 3%)\n",
            "  adding: content/train/BP_boiler_3/IMG_4185.jpg (deflated 3%)\n",
            "  adding: content/train/BP_boiler_3/IMG_4186.jpg (deflated 7%)\n",
            "  adding: content/train/BP_boiler_3/IMG_4182.jpg (deflated 5%)\n",
            "  adding: content/train/BP_boiler_3/IMG_4184.jpg (deflated 7%)\n",
            "  adding: content/train/BP_compressor_1/ (stored 0%)\n",
            "  adding: content/train/BP_compressor_1/IMG_4254.jpg (deflated 2%)\n",
            "  adding: content/train/BP_compressor_1/IMG_4258.jpg (deflated 1%)\n",
            "  adding: content/train/BP_compressor_1/IMG_4257.jpg (deflated 2%)\n",
            "  adding: content/train/BP_compressor_1/IMG_4253.jpg (deflated 1%)\n",
            "  adding: content/train/BP_compressor_1/IMG_4252.jpg (deflated 1%)\n",
            "  adding: content/train/BP_compressor_1/IMG_4249.jpg (deflated 1%)\n",
            "  adding: content/train/CP_boiler_2/ (stored 0%)\n",
            "  adding: content/train/CP_boiler_2/PXL_20220601_030408746.jpg (deflated 1%)\n",
            "  adding: content/train/CP_boiler_2/PXL_20220601_030354258.jpg (deflated 0%)\n",
            "  adding: content/train/CP_boiler_2/PXL_20220601_030406292.jpg (deflated 1%)\n",
            "  adding: content/train/CP_boiler_2/PXL_20220601_030355809.MP.jpg (deflated 0%)\n",
            "  adding: content/train/CP_compressor_1/ (stored 0%)\n",
            "  adding: content/train/CP_compressor_1/PXL_20220601_031017671.jpg (deflated 1%)\n",
            "  adding: content/train/CP_boiler_1/ (stored 0%)\n",
            "  adding: content/train/CP_boiler_1/PXL_20220601_030344689.jpg (deflated 1%)\n",
            "  adding: content/train/CP_boiler_1/PXL_20220601_030347332.jpg (deflated 1%)\n",
            "  adding: content/train/CP_boiler_1/PXL_20220601_030343224.jpg (deflated 1%)\n",
            "  adding: content/train/BP_compressor_4/ (stored 0%)\n",
            "  adding: content/train/BP_compressor_4/IMG_4302.jpg (deflated 1%)\n",
            "  adding: content/train/BP_compressor_4/IMG_4303.jpg (deflated 1%)\n",
            "  adding: content/train/BP_compressor_4/IMG_4306.jpg (deflated 1%)\n",
            "  adding: content/train/BP_compressor_4/IMG_4304.jpg (deflated 1%)\n",
            "  adding: content/train/CP_boiler_3/ (stored 0%)\n",
            "  adding: content/train/CP_boiler_3/PXL_20220601_030648367.jpg (deflated 1%)\n",
            "  adding: content/train/CP_boiler_3/PXL_20220601_030655357.jpg (deflated 1%)\n",
            "  adding: content/train/CP_boiler_3/PXL_20220601_030652728.jpg (deflated 1%)\n",
            "  adding: content/train/CP_boiler_3/PXL_20220601_030716138.jpg (deflated 1%)\n",
            "  adding: content/train/CP_boiler_3/PXL_20220601_030710170.jpg (deflated 1%)\n",
            "  adding: content/train/CP_boiler_3/PXL_20220601_030714139.jpg (deflated 1%)\n",
            "  adding: content/train/BP_compressor_5/ (stored 0%)\n",
            "  adding: content/train/BP_compressor_5/IMG_4437.jpg (deflated 3%)\n",
            "  adding: content/train/BP_compressor_5/IMG_4456.jpg (deflated 4%)\n",
            "  adding: content/train/BP_compressor_5/IMG_4440.jpg (deflated 3%)\n",
            "  adding: content/train/BP_compressor_5/IMG_4442.jpg (deflated 3%)\n",
            "  adding: content/train/BP_compressor_5/IMG_4430.jpg (deflated 2%)\n",
            "  adding: content/train/BP_compressor_5/IMG_4454.jpg (deflated 4%)\n",
            "  adding: content/train/BP_compressor_5/IMG_4457.jpg (deflated 4%)\n",
            "  adding: content/train/BP_compressor_5/IMG_4452.jpg (deflated 4%)\n",
            "  adding: content/train/BP_compressor_5/IMG_4439.jpg (deflated 2%)\n",
            "  adding: content/train/BP_compressor_5/IMG_4455.jpg (deflated 3%)\n",
            "  adding: content/train/BP_compressor_5/IMG_4431.jpg (deflated 3%)\n",
            "  adding: content/train/BP_control/ (stored 0%)\n",
            "  adding: content/train/BP_control/IMG_4244.jpg (deflated 2%)\n",
            "  adding: content/train/BP_control/IMG_4240.jpg (deflated 2%)\n",
            "  adding: content/train/BP_control/IMG_4246.jpg (deflated 2%)\n",
            "  adding: content/train/BP_control/IMG_4238.jpg (deflated 1%)\n",
            "  adding: content/train/BP_control/IMG_4237.jpg (deflated 2%)\n",
            "  adding: content/train/BP_control/IMG_4233.jpg (deflated 2%)\n",
            "  adding: content/train/BP_control/IMG_4239.jpg (deflated 2%)\n",
            "  adding: content/train/BF_meter/ (stored 0%)\n",
            "  adding: content/train/BF_meter/IMG_4142.jpg (deflated 1%)\n",
            "  adding: content/train/BF_meter/IMG_4147.jpg (deflated 1%)\n",
            "  adding: content/train/BF_meter/IMG_4148.jpg (deflated 1%)\n",
            "  adding: content/train/BF_meter/IMG_4143.jpg (deflated 1%)\n",
            "  adding: content/train/BF_meter/IMG_4149.jpg (deflated 0%)\n",
            "  adding: content/train/B_hour_meter/ (stored 0%)\n",
            "  adding: content/train/B_hour_meter/IMG_4367.jpg (deflated 2%)\n",
            "  adding: content/train/B_hour_meter/IMG_4335.jpg (deflated 2%)\n",
            "  adding: content/train/B_hour_meter/IMG_4340.jpg (deflated 3%)\n",
            "  adding: content/train/B_hour_meter/IMG_4365.jpg (deflated 1%)\n",
            "  adding: content/train/B_hour_meter/IMG_4338.jpg (deflated 3%)\n",
            "  adding: content/train/B_hour_meter/IMG_4339.jpg (deflated 2%)\n",
            "  adding: content/train/B_hour_meter/IMG_4348.jpg (deflated 2%)\n",
            "  adding: content/train/B_hour_meter/IMG_4345.jpg (deflated 2%)\n",
            "  adding: content/train/B_hour_meter/IMG_4364.jpg (deflated 1%)\n",
            "  adding: content/train/B_hour_meter/IMG_4344.jpg (deflated 2%)\n",
            "  adding: content/train/B_hour_meter/IMG_4342.jpg (deflated 4%)\n",
            "  adding: content/train/BW_meter_1/ (stored 0%)\n",
            "  adding: content/train/BW_meter_1/IMG_4126.jpg (deflated 2%)\n",
            "  adding: content/train/BW_meter_1/IMG_4121.jpg (deflated 1%)\n",
            "  adding: content/train/BW_meter_1/IMG_4134.jpg (deflated 2%)\n",
            "  adding: content/train/BW_meter_1/IMG_4130.jpg (deflated 1%)\n",
            "  adding: content/train/BW_meter_1/IMG_4113.jpg (deflated 2%)\n",
            "  adding: content/train/BW_meter_1/IMG_4127.jpg (deflated 2%)\n",
            "  adding: content/train/BW_meter_1/IMG_4122.jpg (deflated 2%)\n",
            "  adding: content/train/BW_meter_1/IMG_4133.jpg (deflated 1%)\n",
            "  adding: content/train/BW_meter_1/IMG_4125.jpg (deflated 1%)\n",
            "  adding: content/train/BW_meter_1/IMG_4139.jpg (deflated 1%)\n",
            "  adding: content/train/BW_meter_1/IMG_4120.jpg (deflated 2%)\n",
            "  adding: content/train/BW_meter_1/IMG_4116.jpg (deflated 1%)\n",
            "  adding: content/train/BW_meter_1/IMG_4131.jpg (deflated 1%)\n",
            "  adding: content/train/BW_meter_1/IMG_4114.jpg (deflated 1%)\n",
            "  adding: content/train/BW_meter_1/IMG_4124.jpg (deflated 2%)\n",
            "  adding: content/train/BP_boiler_2/ (stored 0%)\n",
            "  adding: content/train/BP_boiler_2/IMG_4173.jpg (deflated 1%)\n",
            "  adding: content/train/BP_boiler_2/IMG_4168.jpg (deflated 1%)\n",
            "  adding: content/train/BP_boiler_2/IMG_4175.jpg (deflated 1%)\n",
            "  adding: content/train/BP_boiler_2/IMG_4176.jpg (deflated 1%)\n",
            "  adding: content/train/BP_boiler_2/IMG_4167.jpg (deflated 1%)\n",
            "  adding: content/train/BP_boiler_2/IMG_4171.jpg (deflated 2%)\n",
            "  adding: content/train/CP_compressor_2/ (stored 0%)\n",
            "  adding: content/train/CP_compressor_2/PXL_20220601_031012020.MP.jpg (deflated 0%)\n",
            "  adding: content/train/CP_compressor_2/PXL_20220601_030954607.MP.jpg (deflated 0%)\n",
            "  adding: content/train/CP_compressor_2/PXL_20220601_030957837.jpg (deflated 1%)\n",
            "  adding: content/train/BE_meter/ (stored 0%)\n",
            "  adding: content/train/BE_meter/IMG_4310.jpg (deflated 6%)\n",
            "  adding: content/train/BE_meter/IMG_4327.jpg (deflated 3%)\n",
            "  adding: content/train/BE_meter/IMG_4318.jpg (deflated 3%)\n",
            "  adding: content/train/BE_meter/IMG_4354.jpg (deflated 2%)\n",
            "  adding: content/train/BE_meter/IMG_4349.jpg (deflated 2%)\n",
            "  adding: content/train/BE_meter/IMG_4308.jpg (deflated 3%)\n",
            "  adding: content/train/BE_meter/IMG_4353.jpg (deflated 2%)\n",
            "  adding: content/train/BE_meter/IMG_4328.jpg (deflated 3%)\n",
            "  adding: content/train/BE_meter/IMG_4352.jpg (deflated 2%)\n",
            "  adding: content/train/BE_meter/IMG_4351.jpg (deflated 2%)\n",
            "  adding: content/train/BE_meter/IMG_4314.jpg (deflated 3%)\n",
            "  adding: content/train/BP_boiler_5/ (stored 0%)\n",
            "  adding: content/train/BP_boiler_5/IMG_4212.jpg (deflated 2%)\n",
            "  adding: content/train/BP_boiler_5/IMG_4221.jpg (deflated 2%)\n",
            "  adding: content/train/BP_boiler_5/IMG_4211.jpg (deflated 2%)\n",
            "  adding: content/train/BP_boiler_5/IMG_4213.jpg (deflated 2%)\n",
            "  adding: content/train/BP_boiler_5/IMG_4219.jpg (deflated 2%)\n",
            "  adding: content/train/BP_boiler_5/IMG_4220.jpg (deflated 2%)\n",
            "  adding: content/train/BP_boiler_4/ (stored 0%)\n",
            "  adding: content/train/BP_boiler_4/IMG_4206.jpg (deflated 1%)\n",
            "  adding: content/train/BP_boiler_4/IMG_4208.jpg (deflated 1%)\n",
            "  adding: content/train/BP_boiler_4/IMG_4205.jpg (deflated 1%)\n",
            "  adding: content/train/BP_boiler_4/IMG_4201.jpg (deflated 1%)\n",
            "  adding: content/train/BP_boiler_1/ (stored 0%)\n",
            "  adding: content/train/BP_boiler_1/IMG_4157.jpg (deflated 2%)\n",
            "  adding: content/train/BP_boiler_1/IMG_4160.jpg (deflated 2%)\n",
            "  adding: content/train/BP_boiler_1/IMG_4162.jpg (deflated 2%)\n",
            "  adding: content/train/BP_boiler_1/IMG_4158.jpg (deflated 3%)\n",
            "  adding: content/train/BP_boiler_1/IMG_4151.jpg (deflated 3%)\n",
            "  adding: content/train/BP_boiler_1/IMG_4156.jpg (deflated 2%)\n",
            "  adding: content/train/BP_boiler_1/IMG_4153.jpg (deflated 3%)\n",
            "  adding: content/train/BP_boiler_1/IMG_4161.jpg (deflated 3%)\n",
            "  adding: content/train/BE_control/ (stored 0%)\n",
            "  adding: content/train/BE_control/IMG_4394.jpg (deflated 1%)\n",
            "  adding: content/train/BE_control/IMG_4388.jpg (deflated 2%)\n",
            "  adding: content/train/BE_control/IMG_4393.jpg (deflated 2%)\n",
            "  adding: content/train/BE_control/IMG_4405.jpg (deflated 1%)\n",
            "  adding: content/train/BE_control/IMG_4390.jpg (deflated 1%)\n",
            "  adding: content/train/BE_control/IMG_4383.jpg (deflated 2%)\n",
            "  adding: content/train/BE_control/IMG_4397.jpg (deflated 2%)\n",
            "  adding: content/train/BE_control/IMG_4408.jpg (deflated 2%)\n",
            "  adding: content/train/BE_control/IMG_4395.jpg (deflated 1%)\n",
            "  adding: content/train/BE_control/IMG_4407.jpg (deflated 1%)\n",
            "  adding: content/train/BE_control/IMG_4386.jpg (deflated 1%)\n",
            "  adding: content/train/BE_control/IMG_4384.jpg (deflated 1%)\n",
            "  adding: content/train/BE_control/IMG_4418.jpg (deflated 1%)\n",
            "  adding: content/train/BE_control/IMG_4392.jpg (deflated 2%)\n",
            "  adding: content/train/BE_control/IMG_4406.jpg (deflated 1%)\n",
            "  adding: content/train/BE_control/IMG_4409.jpg (deflated 1%)\n",
            "  adding: content/train/BP_compressor_2/ (stored 0%)\n",
            "  adding: content/train/BP_compressor_2/IMG_4279.jpg (deflated 2%)\n",
            "  adding: content/train/BP_compressor_2/IMG_4266.jpg (deflated 1%)\n",
            "  adding: content/train/BP_compressor_2/IMG_4282.jpg (deflated 1%)\n",
            "  adding: content/train/BP_compressor_2/IMG_4274.jpg (deflated 2%)\n",
            "  adding: content/train/BP_compressor_2/IMG_4271.jpg (deflated 1%)\n",
            "  adding: content/train/BP_compressor_2/IMG_4261.jpg (deflated 1%)\n",
            "  adding: content/train/BP_compressor_2/IMG_4259.jpg (deflated 1%)\n",
            "  adding: content/train/BP_compressor_2/IMG_4277.jpg (deflated 2%)\n",
            "  adding: content/train/BP_compressor_2/IMG_4280.jpg (deflated 1%)\n",
            "  adding: content/train/BP_compressor_2/IMG_4272.jpg (deflated 1%)\n",
            "  adding: content/train/BP_compressor_2/IMG_4276.jpg (deflated 2%)\n",
            "  adding: content/train/BP_compressor_2/IMG_4270.jpg (deflated 1%)\n",
            "  adding: content/train/BP_compressor_2/IMG_4263.jpg (deflated 2%)\n",
            "  adding: content/train/BP_compressor_3/ (stored 0%)\n",
            "  adding: content/train/BP_compressor_3/IMG_4285.jpg (deflated 1%)\n",
            "  adding: content/train/BP_compressor_3/IMG_4295.jpg (deflated 1%)\n",
            "  adding: content/train/BP_compressor_3/IMG_4299.jpg (deflated 1%)\n",
            "  adding: content/train/BP_compressor_3/IMG_4293.jpg (deflated 1%)\n",
            "  adding: content/train/BP_compressor_3/IMG_4292.jpg (deflated 1%)\n",
            "  adding: content/train/BP_compressor_3/IMG_4298.jpg (deflated 1%)\n",
            "  adding: content/train/BP_compressor_3/IMG_4289.jpg (deflated 1%)\n",
            "  adding: content/train/BP_compressor_3/IMG_4288.jpg (deflated 1%)\n",
            "  adding: content/train/BT_meter/ (stored 0%)\n",
            "  adding: content/train/BT_meter/IMG_4226.jpg (deflated 2%)\n",
            "  adding: content/train/BT_meter/IMG_4232.jpg (deflated 2%)\n",
            "  adding: content/train/BT_meter/IMG_4227.jpg (deflated 2%)\n",
            "  adding: content/train/BT_meter/IMG_4228.jpg (deflated 2%)\n",
            "  adding: content/train/BT_meter/IMG_4231.jpg (deflated 2%)\n",
            "  adding: content/train/BT_meter/IMG_4225.jpg (deflated 1%)\n"
          ]
        }
      ]
    },
    {
      "cell_type": "code",
      "source": [
        "!zip -r /content/test_45.zip /content/test"
      ],
      "metadata": {
        "colab": {
          "base_uri": "https://localhost:8080/"
        },
        "id": "d-O5D1yiWQI4",
        "outputId": "75fabe1d-4b51-4e15-ad68-cda6de363c7f"
      },
      "execution_count": 16,
      "outputs": [
        {
          "output_type": "stream",
          "name": "stdout",
          "text": [
            "  adding: content/test/ (stored 0%)\n",
            "  adding: content/test/BP_boiler_3/ (stored 0%)\n",
            "  adding: content/test/BP_boiler_3/IMG_4192.jpg (deflated 3%)\n",
            "  adding: content/test/BP_boiler_3/IMG_4193.jpg (deflated 3%)\n",
            "  adding: content/test/BP_boiler_3/IMG_4189.jpg (deflated 3%)\n",
            "  adding: content/test/BP_boiler_3/IMG_4188.jpg (deflated 3%)\n",
            "  adding: content/test/BP_boiler_3/IMG_4183.jpg (deflated 3%)\n",
            "  adding: content/test/BP_boiler_3/IMG_4187.jpg (deflated 3%)\n",
            "  adding: content/test/BP_compressor_1/ (stored 0%)\n",
            "  adding: content/test/BP_compressor_1/IMG_4248.jpg (deflated 2%)\n",
            "  adding: content/test/BP_compressor_1/IMG_4255.jpg (deflated 2%)\n",
            "  adding: content/test/BP_compressor_1/IMG_4250.jpg (deflated 1%)\n",
            "  adding: content/test/BP_compressor_1/IMG_4256.jpg (deflated 2%)\n",
            "  adding: content/test/BP_compressor_1/IMG_4251.jpg (deflated 1%)\n",
            "  adding: content/test/CP_boiler_2/ (stored 0%)\n",
            "  adding: content/test/CP_boiler_2/PXL_20220601_030400222.jpg (deflated 1%)\n",
            "  adding: content/test/CP_boiler_2/PXL_20220601_030358575.jpg (deflated 0%)\n",
            "  adding: content/test/CP_boiler_2/PXL_20220601_030357061.jpg (deflated 0%)\n",
            "  adding: content/test/CP_boiler_2/PXL_20220601_030402756.jpg (deflated 1%)\n",
            "  adding: content/test/CP_compressor_1/ (stored 0%)\n",
            "  adding: content/test/CP_compressor_1/PXL_20220601_031001741.jpg (deflated 0%)\n",
            "  adding: content/test/CP_boiler_1/ (stored 0%)\n",
            "  adding: content/test/CP_boiler_1/PXL_20220601_030342081.jpg (deflated 1%)\n",
            "  adding: content/test/CP_boiler_1/PXL_20220601_030351319.jpg (deflated 1%)\n",
            "  adding: content/test/CP_boiler_1/PXL_20220601_030411508.jpg (deflated 1%)\n",
            "  adding: content/test/BP_compressor_4/ (stored 0%)\n",
            "  adding: content/test/BP_compressor_4/IMG_4301.jpg (deflated 1%)\n",
            "  adding: content/test/BP_compressor_4/IMG_4305.jpg (deflated 1%)\n",
            "  adding: content/test/BP_compressor_4/IMG_4300.jpg (deflated 1%)\n",
            "  adding: content/test/BP_compressor_4/IMG_4307.jpg (deflated 1%)\n",
            "  adding: content/test/CP_boiler_3/ (stored 0%)\n",
            "  adding: content/test/CP_boiler_3/PXL_20220601_030704322.jpg (deflated 1%)\n",
            "  adding: content/test/CP_boiler_3/PXL_20220601_030718234.jpg (deflated 1%)\n",
            "  adding: content/test/CP_boiler_3/PXL_20220601_030650221.jpg (deflated 1%)\n",
            "  adding: content/test/CP_boiler_3/PXL_20220601_030702077.jpg (deflated 1%)\n",
            "  adding: content/test/CP_boiler_3/PXL_20220601_030708785.jpg (deflated 1%)\n",
            "  adding: content/test/CP_boiler_3/PXL_20220601_030657642.jpg (deflated 1%)\n",
            "  adding: content/test/BP_compressor_5/ (stored 0%)\n",
            "  adding: content/test/BP_compressor_5/IMG_4433.jpg (deflated 3%)\n",
            "  adding: content/test/BP_compressor_5/IMG_4453.jpg (deflated 3%)\n",
            "  adding: content/test/BP_compressor_5/IMG_4434.jpg (deflated 3%)\n",
            "  adding: content/test/BP_compressor_5/IMG_4436.jpg (deflated 3%)\n",
            "  adding: content/test/BP_compressor_5/IMG_4443.jpg (deflated 3%)\n",
            "  adding: content/test/BP_compressor_5/IMG_4432.jpg (deflated 3%)\n",
            "  adding: content/test/BP_compressor_5/IMG_4438.jpg (deflated 3%)\n",
            "  adding: content/test/BP_compressor_5/IMG_4429.jpg (deflated 2%)\n",
            "  adding: content/test/BP_compressor_5/IMG_4435.jpg (deflated 3%)\n",
            "  adding: content/test/BP_compressor_5/IMG_4441.jpg (deflated 4%)\n",
            "  adding: content/test/BP_control/ (stored 0%)\n",
            "  adding: content/test/BP_control/IMG_4236.jpg (deflated 2%)\n",
            "  adding: content/test/BP_control/IMG_4245.jpg (deflated 2%)\n",
            "  adding: content/test/BP_control/IMG_4235.jpg (deflated 2%)\n",
            "  adding: content/test/BP_control/IMG_4242.jpg (deflated 2%)\n",
            "  adding: content/test/BP_control/IMG_4234.jpg (deflated 2%)\n",
            "  adding: content/test/BP_control/IMG_4241.jpg (deflated 2%)\n",
            "  adding: content/test/BP_control/IMG_4243.jpg (deflated 2%)\n",
            "  adding: content/test/BF_meter/ (stored 0%)\n",
            "  adding: content/test/BF_meter/IMG_4141.jpg (deflated 1%)\n",
            "  adding: content/test/BF_meter/IMG_4145.jpg (deflated 1%)\n",
            "  adding: content/test/BF_meter/IMG_4146.jpg (deflated 1%)\n",
            "  adding: content/test/BF_meter/IMG_4150.jpg (deflated 1%)\n",
            "  adding: content/test/BF_meter/IMG_4144.jpg (deflated 1%)\n",
            "  adding: content/test/B_hour_meter/ (stored 0%)\n",
            "  adding: content/test/B_hour_meter/IMG_4333.jpg (deflated 3%)\n",
            "  adding: content/test/B_hour_meter/IMG_4347.jpg (deflated 2%)\n",
            "  adding: content/test/B_hour_meter/IMG_4337.jpg (deflated 2%)\n",
            "  adding: content/test/B_hour_meter/IMG_4341.jpg (deflated 3%)\n",
            "  adding: content/test/B_hour_meter/IMG_4334.jpg (deflated 3%)\n",
            "  adding: content/test/B_hour_meter/IMG_4343.jpg (deflated 3%)\n",
            "  adding: content/test/B_hour_meter/IMG_4336.jpg (deflated 1%)\n",
            "  adding: content/test/B_hour_meter/IMG_4346.jpg (deflated 2%)\n",
            "  adding: content/test/B_hour_meter/IMG_4366.jpg (deflated 2%)\n",
            "  adding: content/test/BW_meter_1/ (stored 0%)\n",
            "  adding: content/test/BW_meter_1/IMG_4136.jpg (deflated 1%)\n",
            "  adding: content/test/BW_meter_1/IMG_4115.jpg (deflated 1%)\n",
            "  adding: content/test/BW_meter_1/IMG_4123.jpg (deflated 2%)\n",
            "  adding: content/test/BW_meter_1/IMG_4135.jpg (deflated 2%)\n",
            "  adding: content/test/BW_meter_1/IMG_4140.jpg (deflated 1%)\n",
            "  adding: content/test/BW_meter_1/IMG_4137.jpg (deflated 1%)\n",
            "  adding: content/test/BW_meter_1/IMG_4129.jpg (deflated 1%)\n",
            "  adding: content/test/BW_meter_1/IMG_4128.jpg (deflated 2%)\n",
            "  adding: content/test/BW_meter_1/IMG_4117.jpg (deflated 1%)\n",
            "  adding: content/test/BW_meter_1/IMG_4138.jpg (deflated 1%)\n",
            "  adding: content/test/BW_meter_1/IMG_4119.jpg (deflated 2%)\n",
            "  adding: content/test/BW_meter_1/IMG_4118.jpg (deflated 2%)\n",
            "  adding: content/test/BW_meter_1/IMG_4132.jpg (deflated 1%)\n",
            "  adding: content/test/BP_boiler_2/ (stored 0%)\n",
            "  adding: content/test/BP_boiler_2/IMG_4170.jpg (deflated 2%)\n",
            "  adding: content/test/BP_boiler_2/IMG_4172.jpg (deflated 1%)\n",
            "  adding: content/test/BP_boiler_2/IMG_4166.jpg (deflated 1%)\n",
            "  adding: content/test/BP_boiler_2/IMG_4169.jpg (deflated 2%)\n",
            "  adding: content/test/BP_boiler_2/IMG_4174.jpg (deflated 1%)\n",
            "  adding: content/test/CP_compressor_2/ (stored 0%)\n",
            "  adding: content/test/CP_compressor_2/PXL_20220601_031019634.MP.jpg (deflated 0%)\n",
            "  adding: content/test/CP_compressor_2/PXL_20220601_031023090.jpg (deflated 0%)\n",
            "  adding: content/test/CP_compressor_2/PXL_20220601_030959436.jpg (deflated 0%)\n",
            "  adding: content/test/BE_meter/ (stored 0%)\n",
            "  adding: content/test/BE_meter/IMG_4315.jpg (deflated 4%)\n",
            "  adding: content/test/BE_meter/IMG_4326.jpg (deflated 3%)\n",
            "  adding: content/test/BE_meter/IMG_4350.jpg (deflated 2%)\n",
            "  adding: content/test/BE_meter/IMG_4311.jpg (deflated 3%)\n",
            "  adding: content/test/BE_meter/IMG_4309.jpg (deflated 3%)\n",
            "  adding: content/test/BE_meter/IMG_4312.jpg (deflated 3%)\n",
            "  adding: content/test/BE_meter/IMG_4317.jpg (deflated 3%)\n",
            "  adding: content/test/BE_meter/IMG_4316.jpg (deflated 3%)\n",
            "  adding: content/test/BE_meter/IMG_4313.jpg (deflated 4%)\n",
            "  adding: content/test/BP_boiler_5/ (stored 0%)\n",
            "  adding: content/test/BP_boiler_5/IMG_4218.jpg (deflated 2%)\n",
            "  adding: content/test/BP_boiler_5/IMG_4210.jpg (deflated 2%)\n",
            "  adding: content/test/BP_boiler_5/IMG_4215.jpg (deflated 2%)\n",
            "  adding: content/test/BP_boiler_5/IMG_4216.jpg (deflated 2%)\n",
            "  adding: content/test/BP_boiler_5/IMG_4217.jpg (deflated 2%)\n",
            "  adding: content/test/BP_boiler_5/IMG_4214.jpg (deflated 2%)\n",
            "  adding: content/test/BP_boiler_4/ (stored 0%)\n",
            "  adding: content/test/BP_boiler_4/IMG_4203.jpg (deflated 1%)\n",
            "  adding: content/test/BP_boiler_4/IMG_4204.jpg (deflated 1%)\n",
            "  adding: content/test/BP_boiler_4/IMG_4202.jpg (deflated 1%)\n",
            "  adding: content/test/BP_boiler_4/IMG_4207.jpg (deflated 1%)\n",
            "  adding: content/test/BP_boiler_1/ (stored 0%)\n",
            "  adding: content/test/BP_boiler_1/IMG_4155.jpg (deflated 2%)\n",
            "  adding: content/test/BP_boiler_1/IMG_4154.jpg (deflated 2%)\n",
            "  adding: content/test/BP_boiler_1/IMG_4163.jpg (deflated 2%)\n",
            "  adding: content/test/BP_boiler_1/IMG_4164.jpg (deflated 2%)\n",
            "  adding: content/test/BP_boiler_1/IMG_4159.jpg (deflated 2%)\n",
            "  adding: content/test/BP_boiler_1/IMG_4152.jpg (deflated 3%)\n",
            "  adding: content/test/BP_boiler_1/IMG_4165.jpg (deflated 2%)\n",
            "  adding: content/test/BE_control/ (stored 0%)\n",
            "  adding: content/test/BE_control/IMG_4389.jpg (deflated 2%)\n",
            "  adding: content/test/BE_control/IMG_4402.jpg (deflated 2%)\n",
            "  adding: content/test/BE_control/IMG_4399.jpg (deflated 1%)\n",
            "  adding: content/test/BE_control/IMG_4396.jpg (deflated 2%)\n",
            "  adding: content/test/BE_control/IMG_4382.jpg (deflated 2%)\n",
            "  adding: content/test/BE_control/IMG_4387.jpg (deflated 1%)\n",
            "  adding: content/test/BE_control/IMG_4401.jpg (deflated 1%)\n",
            "  adding: content/test/BE_control/IMG_4410.jpg (deflated 1%)\n",
            "  adding: content/test/BE_control/IMG_4400.jpg (deflated 2%)\n",
            "  adding: content/test/BE_control/IMG_4385.jpg (deflated 1%)\n",
            "  adding: content/test/BE_control/IMG_4391.jpg (deflated 2%)\n",
            "  adding: content/test/BE_control/IMG_4403.jpg (deflated 2%)\n",
            "  adding: content/test/BE_control/IMG_4404.jpg (deflated 1%)\n",
            "  adding: content/test/BE_control/IMG_4398.jpg (deflated 1%)\n",
            "  adding: content/test/BP_compressor_2/ (stored 0%)\n",
            "  adding: content/test/BP_compressor_2/IMG_4275.jpg (deflated 2%)\n",
            "  adding: content/test/BP_compressor_2/IMG_4267.jpg (deflated 1%)\n",
            "  adding: content/test/BP_compressor_2/IMG_4265.jpg (deflated 1%)\n",
            "  adding: content/test/BP_compressor_2/IMG_4281.jpg (deflated 1%)\n",
            "  adding: content/test/BP_compressor_2/IMG_4269.jpg (deflated 1%)\n",
            "  adding: content/test/BP_compressor_2/IMG_4283.jpg (deflated 1%)\n",
            "  adding: content/test/BP_compressor_2/IMG_4278.jpg (deflated 2%)\n",
            "  adding: content/test/BP_compressor_2/IMG_4264.jpg (deflated 1%)\n",
            "  adding: content/test/BP_compressor_2/IMG_4268.jpg (deflated 1%)\n",
            "  adding: content/test/BP_compressor_2/IMG_4273.jpg (deflated 1%)\n",
            "  adding: content/test/BP_compressor_2/IMG_4260.jpg (deflated 1%)\n",
            "  adding: content/test/BP_compressor_2/IMG_4262.jpg (deflated 2%)\n",
            "  adding: content/test/BP_compressor_3/ (stored 0%)\n",
            "  adding: content/test/BP_compressor_3/IMG_4286.jpg (deflated 1%)\n",
            "  adding: content/test/BP_compressor_3/IMG_4284.jpg (deflated 1%)\n",
            "  adding: content/test/BP_compressor_3/IMG_4294.jpg (deflated 1%)\n",
            "  adding: content/test/BP_compressor_3/IMG_4291.jpg (deflated 1%)\n",
            "  adding: content/test/BP_compressor_3/IMG_4296.jpg (deflated 1%)\n",
            "  adding: content/test/BP_compressor_3/IMG_4297.jpg (deflated 1%)\n",
            "  adding: content/test/BP_compressor_3/IMG_4290.jpg (deflated 1%)\n",
            "  adding: content/test/BP_compressor_3/IMG_4287.jpg (deflated 1%)\n",
            "  adding: content/test/BT_meter/ (stored 0%)\n",
            "  adding: content/test/BT_meter/IMG_4223.jpg (deflated 2%)\n",
            "  adding: content/test/BT_meter/IMG_4229.jpg (deflated 2%)\n",
            "  adding: content/test/BT_meter/IMG_4224.jpg (deflated 1%)\n",
            "  adding: content/test/BT_meter/IMG_4222.jpg (deflated 2%)\n",
            "  adding: content/test/BT_meter/IMG_4230.jpg (deflated 2%)\n"
          ]
        }
      ]
    },
    {
      "cell_type": "code",
      "source": [
        "from google.colab import files\n",
        "files.download(\"/content/train_55.zip\")"
      ],
      "metadata": {
        "colab": {
          "base_uri": "https://localhost:8080/",
          "height": 17
        },
        "id": "A40ZpjrvWTsC",
        "outputId": "023ce0ed-a00b-471b-f9f8-e9bf10334068"
      },
      "execution_count": 18,
      "outputs": [
        {
          "output_type": "display_data",
          "data": {
            "text/plain": [
              "<IPython.core.display.Javascript object>"
            ],
            "application/javascript": [
              "\n",
              "    async function download(id, filename, size) {\n",
              "      if (!google.colab.kernel.accessAllowed) {\n",
              "        return;\n",
              "      }\n",
              "      const div = document.createElement('div');\n",
              "      const label = document.createElement('label');\n",
              "      label.textContent = `Downloading \"${filename}\": `;\n",
              "      div.appendChild(label);\n",
              "      const progress = document.createElement('progress');\n",
              "      progress.max = size;\n",
              "      div.appendChild(progress);\n",
              "      document.body.appendChild(div);\n",
              "\n",
              "      const buffers = [];\n",
              "      let downloaded = 0;\n",
              "\n",
              "      const channel = await google.colab.kernel.comms.open(id);\n",
              "      // Send a message to notify the kernel that we're ready.\n",
              "      channel.send({})\n",
              "\n",
              "      for await (const message of channel.messages) {\n",
              "        // Send a message to notify the kernel that we're ready.\n",
              "        channel.send({})\n",
              "        if (message.buffers) {\n",
              "          for (const buffer of message.buffers) {\n",
              "            buffers.push(buffer);\n",
              "            downloaded += buffer.byteLength;\n",
              "            progress.value = downloaded;\n",
              "          }\n",
              "        }\n",
              "      }\n",
              "      const blob = new Blob(buffers, {type: 'application/binary'});\n",
              "      const a = document.createElement('a');\n",
              "      a.href = window.URL.createObjectURL(blob);\n",
              "      a.download = filename;\n",
              "      div.appendChild(a);\n",
              "      a.click();\n",
              "      div.remove();\n",
              "    }\n",
              "  "
            ]
          },
          "metadata": {}
        },
        {
          "output_type": "display_data",
          "data": {
            "text/plain": [
              "<IPython.core.display.Javascript object>"
            ],
            "application/javascript": [
              "download(\"download_5c048083-b0aa-49af-92e2-1698c86b271b\", \"train_55.zip\", 197786129)"
            ]
          },
          "metadata": {}
        }
      ]
    },
    {
      "cell_type": "code",
      "source": [
        "files.download(\"/content/test_45.zip\")"
      ],
      "metadata": {
        "colab": {
          "base_uri": "https://localhost:8080/",
          "height": 17
        },
        "id": "_IXSi7vkP2K8",
        "outputId": "500ffa8f-1452-48e4-b9bb-8de47de9411d"
      },
      "execution_count": 21,
      "outputs": [
        {
          "output_type": "display_data",
          "data": {
            "text/plain": [
              "<IPython.core.display.Javascript object>"
            ],
            "application/javascript": [
              "\n",
              "    async function download(id, filename, size) {\n",
              "      if (!google.colab.kernel.accessAllowed) {\n",
              "        return;\n",
              "      }\n",
              "      const div = document.createElement('div');\n",
              "      const label = document.createElement('label');\n",
              "      label.textContent = `Downloading \"${filename}\": `;\n",
              "      div.appendChild(label);\n",
              "      const progress = document.createElement('progress');\n",
              "      progress.max = size;\n",
              "      div.appendChild(progress);\n",
              "      document.body.appendChild(div);\n",
              "\n",
              "      const buffers = [];\n",
              "      let downloaded = 0;\n",
              "\n",
              "      const channel = await google.colab.kernel.comms.open(id);\n",
              "      // Send a message to notify the kernel that we're ready.\n",
              "      channel.send({})\n",
              "\n",
              "      for await (const message of channel.messages) {\n",
              "        // Send a message to notify the kernel that we're ready.\n",
              "        channel.send({})\n",
              "        if (message.buffers) {\n",
              "          for (const buffer of message.buffers) {\n",
              "            buffers.push(buffer);\n",
              "            downloaded += buffer.byteLength;\n",
              "            progress.value = downloaded;\n",
              "          }\n",
              "        }\n",
              "      }\n",
              "      const blob = new Blob(buffers, {type: 'application/binary'});\n",
              "      const a = document.createElement('a');\n",
              "      a.href = window.URL.createObjectURL(blob);\n",
              "      a.download = filename;\n",
              "      div.appendChild(a);\n",
              "      a.click();\n",
              "      div.remove();\n",
              "    }\n",
              "  "
            ]
          },
          "metadata": {}
        },
        {
          "output_type": "display_data",
          "data": {
            "text/plain": [
              "<IPython.core.display.Javascript object>"
            ],
            "application/javascript": [
              "download(\"download_e9ee0f01-3d54-4415-8006-689fb33fdd95\", \"test_45.zip\", 177752263)"
            ]
          },
          "metadata": {}
        }
      ]
    }
  ]
}